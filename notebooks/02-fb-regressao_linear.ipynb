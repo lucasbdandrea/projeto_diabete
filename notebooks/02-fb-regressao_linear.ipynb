{
 "cells": [
  {
   "cell_type": "code",
   "execution_count": 34,
   "metadata": {},
   "outputs": [],
   "source": [
    "import matplotlib.pyplot as plt\n",
    "import pandas as pd\n",
    "import seaborn as sns\n",
    "\n",
    "\n",
    "from sklearn.linear_model import LinearRegression\n",
    "from sklearn.metrics import mean_absolute_error, mean_squared_error, root_mean_squared_error, r2_score, PredictionErrorDisplay\n",
    "from sklearn.model_selection import train_test_split\n",
    "\n",
    "from src.auxiliares import dataframe_coeficientes\n",
    "from src.config import DADOS_TRATADOS\n",
    "from src.graficos import plot_coeficientes, plot_residuos\n",
    "\n",
    "sns.set_theme(palette=\"bright\")\n",
    "\n",
    "RANDOM_STATE = 42"
   ]
  },
  {
   "cell_type": "code",
   "execution_count": 3,
   "metadata": {},
   "outputs": [
    {
     "data": {
      "text/html": [
       "<div>\n",
       "<style scoped>\n",
       "    .dataframe tbody tr th:only-of-type {\n",
       "        vertical-align: middle;\n",
       "    }\n",
       "\n",
       "    .dataframe tbody tr th {\n",
       "        vertical-align: top;\n",
       "    }\n",
       "\n",
       "    .dataframe thead th {\n",
       "        text-align: right;\n",
       "    }\n",
       "</style>\n",
       "<table border=\"1\" class=\"dataframe\">\n",
       "  <thead>\n",
       "    <tr style=\"text-align: right;\">\n",
       "      <th></th>\n",
       "      <th>idade</th>\n",
       "      <th>sexo</th>\n",
       "      <th>imc</th>\n",
       "      <th>pressao_media</th>\n",
       "      <th>colesterol_total</th>\n",
       "      <th>ldl</th>\n",
       "      <th>hdl</th>\n",
       "      <th>colesterol_hdl</th>\n",
       "      <th>triglicerides</th>\n",
       "      <th>glicose</th>\n",
       "      <th>target</th>\n",
       "    </tr>\n",
       "  </thead>\n",
       "  <tbody>\n",
       "    <tr>\n",
       "      <th>0</th>\n",
       "      <td>59</td>\n",
       "      <td>2</td>\n",
       "      <td>32.099998</td>\n",
       "      <td>101.0</td>\n",
       "      <td>157</td>\n",
       "      <td>93.199997</td>\n",
       "      <td>38.0</td>\n",
       "      <td>4.0</td>\n",
       "      <td>4.8598</td>\n",
       "      <td>87</td>\n",
       "      <td>151</td>\n",
       "    </tr>\n",
       "    <tr>\n",
       "      <th>1</th>\n",
       "      <td>48</td>\n",
       "      <td>1</td>\n",
       "      <td>21.600000</td>\n",
       "      <td>87.0</td>\n",
       "      <td>183</td>\n",
       "      <td>103.199997</td>\n",
       "      <td>70.0</td>\n",
       "      <td>3.0</td>\n",
       "      <td>3.8918</td>\n",
       "      <td>69</td>\n",
       "      <td>75</td>\n",
       "    </tr>\n",
       "    <tr>\n",
       "      <th>2</th>\n",
       "      <td>72</td>\n",
       "      <td>2</td>\n",
       "      <td>30.500000</td>\n",
       "      <td>93.0</td>\n",
       "      <td>156</td>\n",
       "      <td>93.599998</td>\n",
       "      <td>41.0</td>\n",
       "      <td>4.0</td>\n",
       "      <td>4.6728</td>\n",
       "      <td>85</td>\n",
       "      <td>141</td>\n",
       "    </tr>\n",
       "    <tr>\n",
       "      <th>3</th>\n",
       "      <td>24</td>\n",
       "      <td>1</td>\n",
       "      <td>25.299999</td>\n",
       "      <td>84.0</td>\n",
       "      <td>198</td>\n",
       "      <td>131.399994</td>\n",
       "      <td>40.0</td>\n",
       "      <td>5.0</td>\n",
       "      <td>4.8903</td>\n",
       "      <td>89</td>\n",
       "      <td>206</td>\n",
       "    </tr>\n",
       "    <tr>\n",
       "      <th>4</th>\n",
       "      <td>50</td>\n",
       "      <td>1</td>\n",
       "      <td>23.000000</td>\n",
       "      <td>101.0</td>\n",
       "      <td>192</td>\n",
       "      <td>125.400002</td>\n",
       "      <td>52.0</td>\n",
       "      <td>4.0</td>\n",
       "      <td>4.2905</td>\n",
       "      <td>80</td>\n",
       "      <td>135</td>\n",
       "    </tr>\n",
       "  </tbody>\n",
       "</table>\n",
       "</div>"
      ],
      "text/plain": [
       "   idade  sexo        imc  pressao_media  colesterol_total         ldl   hdl  \\\n",
       "0     59     2  32.099998          101.0               157   93.199997  38.0   \n",
       "1     48     1  21.600000           87.0               183  103.199997  70.0   \n",
       "2     72     2  30.500000           93.0               156   93.599998  41.0   \n",
       "3     24     1  25.299999           84.0               198  131.399994  40.0   \n",
       "4     50     1  23.000000          101.0               192  125.400002  52.0   \n",
       "\n",
       "   colesterol_hdl  triglicerides  glicose  target  \n",
       "0             4.0         4.8598       87     151  \n",
       "1             3.0         3.8918       69      75  \n",
       "2             4.0         4.6728       85     141  \n",
       "3             5.0         4.8903       89     206  \n",
       "4             4.0         4.2905       80     135  "
      ]
     },
     "execution_count": 3,
     "metadata": {},
     "output_type": "execute_result"
    }
   ],
   "source": [
    "df = pd.read_parquet(DADOS_TRATADOS)\n",
    "\n",
    "df.head()"
   ]
  },
  {
   "cell_type": "code",
   "execution_count": 4,
   "metadata": {},
   "outputs": [
    {
     "name": "stdout",
     "output_type": "stream",
     "text": [
      "<class 'pandas.core.frame.DataFrame'>\n",
      "RangeIndex: 442 entries, 0 to 441\n",
      "Data columns (total 11 columns):\n",
      " #   Column            Non-Null Count  Dtype  \n",
      "---  ------            --------------  -----  \n",
      " 0   idade             442 non-null    int8   \n",
      " 1   sexo              442 non-null    int8   \n",
      " 2   imc               442 non-null    float32\n",
      " 3   pressao_media     442 non-null    float32\n",
      " 4   colesterol_total  442 non-null    int16  \n",
      " 5   ldl               442 non-null    float32\n",
      " 6   hdl               442 non-null    float32\n",
      " 7   colesterol_hdl    442 non-null    float32\n",
      " 8   triglicerides     442 non-null    float32\n",
      " 9   glicose           442 non-null    int8   \n",
      " 10  target            442 non-null    int16  \n",
      "dtypes: float32(6), int16(2), int8(3)\n",
      "memory usage: 13.5 KB\n"
     ]
    }
   ],
   "source": [
    "df.info()"
   ]
  },
  {
   "cell_type": "markdown",
   "metadata": {},
   "source": [
    "Quando desenvolvemos um modelo de machine learning, nosso objetivo principal é criar um sistema que seja capaz de fazer previsões precisas em dados que o modelo nunca viu antes. Para alcançar esse objetivo, precisamos garantir que o modelo não apenas aprenda os padrões dos dados de treinamento, mas que também seja capaz de generalizar esse aprendizado para novos dados.\n",
    "\n",
    "#### **Base de Treinamento (Training Set)**\n",
    "\n",
    "A base de treinamento é a parte dos dados que o modelo utiliza para aprender. Nessa etapa, o modelo ajusta seus parâmetros internos, como os coeficientes de uma regressão linear ou os pesos de uma forma geral, para minimizar o erro em relação aos dados de treinamento.\n",
    "\n",
    "- **Objetivo**: Permitir que o modelo aprenda as relações e padrões presentes nos dados. Durante o treinamento, o modelo é exposto a esses dados repetidamente para refinar sua capacidade de fazer previsões.\n",
    "\n",
    "- **Risco**: Se o modelo tiver muita capacidade (por exemplo, se for muito complexo), ele pode \"memorizar\" os dados de treinamento, resultando em overfitting. Overfitting ocorre quando o modelo se ajusta tão bem aos dados de treinamento que perde a capacidade de generalizar para novos dados.\n",
    "\n",
    "#### **Base de Teste (Test Set)**\n",
    "\n",
    "A base de teste, por outro lado, é um conjunto de dados separado que o modelo não vê durante o treinamento. Esse conjunto é reservado exclusivamente para avaliar o desempenho do modelo após ele ter sido treinado.\n",
    "\n",
    "- **Objetivo**: Fornecer uma estimativa imparcial do desempenho do modelo em dados novos, simulando como ele se comportaria em um ambiente real. Como o modelo não teve acesso a esses dados durante o treinamento, seu desempenho na base de teste é um bom indicador de sua capacidade de generalização.\n",
    "\n",
    "- **Risco**: Se a base de teste for usada de forma inadequada, por exemplo, se for utilizada para ajustar hiperparâmetros ou refinar o modelo, ela pode deixar de ser um teste imparcial, levando a uma avaliação excessivamente otimista do desempenho do modelo.\n",
    "\n",
    "### Importância da Separação\n",
    "\n",
    "1. **Avaliação da Generalização**:\n",
    "   - A principal razão para separar os dados em treino e teste é avaliar a capacidade do modelo de generalizar para novos dados. Sem essa separação, não teríamos como medir o quanto o modelo aprendeu de forma robusta ou se ele está simplesmente memorizando os dados de treinamento.\n",
    "\n",
    "2. **Detecção de Overfitting e Underfitting**:\n",
    "   - Ao comparar o desempenho do modelo nos dados de treinamento e teste, podemos identificar problemas de overfitting (quando o desempenho no treino é muito melhor do que no teste) e underfitting (quando o desempenho é ruim em ambos).\n",
    "\n",
    "3. **Validação Imparcial**:\n",
    "   - Usar um conjunto de dados separado para teste garante que a avaliação do modelo seja imparcial e reflita seu verdadeiro desempenho em situações do mundo real.\n",
    "\n",
    "### Procedimentos Relacionados\n",
    "\n",
    "- **Cross-Validation**: Para mitigar o risco de que a divisão específica dos dados em treino e teste possa influenciar os resultados, muitas vezes utilizamos a técnica de validação cruzada (cross-validation). Nessa técnica, o conjunto de dados é dividido em várias partes, e o treinamento e teste são realizados múltiplas vezes, cada vez com uma parte diferente dos dados reservada para teste. Isso fornece uma estimativa mais robusta do desempenho do modelo.\n",
    "\n"
   ]
  },
  {
   "cell_type": "markdown",
   "metadata": {},
   "source": [
    "https://scikit-learn.org/stable/modules/generated/sklearn.model_selection.train_test_split.html"
   ]
  },
  {
   "cell_type": "code",
   "execution_count": 5,
   "metadata": {},
   "outputs": [],
   "source": [
    "X = df.drop(columns=\"target\")\n",
    "y = df[\"target\"]\n",
    "\n",
    "X_train, X_test, y_train, y_test = train_test_split(\n",
    "    X, y, test_size=0.2, random_state=RANDOM_STATE\n",
    ")"
   ]
  },
  {
   "cell_type": "code",
   "execution_count": 6,
   "metadata": {},
   "outputs": [
    {
     "data": {
      "text/html": [
       "<div>\n",
       "<style scoped>\n",
       "    .dataframe tbody tr th:only-of-type {\n",
       "        vertical-align: middle;\n",
       "    }\n",
       "\n",
       "    .dataframe tbody tr th {\n",
       "        vertical-align: top;\n",
       "    }\n",
       "\n",
       "    .dataframe thead th {\n",
       "        text-align: right;\n",
       "    }\n",
       "</style>\n",
       "<table border=\"1\" class=\"dataframe\">\n",
       "  <thead>\n",
       "    <tr style=\"text-align: right;\">\n",
       "      <th></th>\n",
       "      <th>idade</th>\n",
       "      <th>sexo</th>\n",
       "      <th>imc</th>\n",
       "      <th>pressao_media</th>\n",
       "      <th>colesterol_total</th>\n",
       "      <th>ldl</th>\n",
       "      <th>hdl</th>\n",
       "      <th>colesterol_hdl</th>\n",
       "      <th>triglicerides</th>\n",
       "      <th>glicose</th>\n",
       "    </tr>\n",
       "  </thead>\n",
       "  <tbody>\n",
       "    <tr>\n",
       "      <th>17</th>\n",
       "      <td>68</td>\n",
       "      <td>2</td>\n",
       "      <td>27.500000</td>\n",
       "      <td>111.0</td>\n",
       "      <td>214</td>\n",
       "      <td>147.000000</td>\n",
       "      <td>39.0</td>\n",
       "      <td>5.0</td>\n",
       "      <td>4.9416</td>\n",
       "      <td>91</td>\n",
       "    </tr>\n",
       "    <tr>\n",
       "      <th>66</th>\n",
       "      <td>46</td>\n",
       "      <td>2</td>\n",
       "      <td>24.700001</td>\n",
       "      <td>85.0</td>\n",
       "      <td>174</td>\n",
       "      <td>123.199997</td>\n",
       "      <td>30.0</td>\n",
       "      <td>6.0</td>\n",
       "      <td>4.6444</td>\n",
       "      <td>96</td>\n",
       "    </tr>\n",
       "    <tr>\n",
       "      <th>137</th>\n",
       "      <td>50</td>\n",
       "      <td>1</td>\n",
       "      <td>31.000000</td>\n",
       "      <td>123.0</td>\n",
       "      <td>178</td>\n",
       "      <td>105.000000</td>\n",
       "      <td>48.0</td>\n",
       "      <td>4.0</td>\n",
       "      <td>4.8283</td>\n",
       "      <td>88</td>\n",
       "    </tr>\n",
       "    <tr>\n",
       "      <th>245</th>\n",
       "      <td>41</td>\n",
       "      <td>1</td>\n",
       "      <td>23.100000</td>\n",
       "      <td>86.0</td>\n",
       "      <td>148</td>\n",
       "      <td>78.000000</td>\n",
       "      <td>58.0</td>\n",
       "      <td>3.0</td>\n",
       "      <td>4.0943</td>\n",
       "      <td>60</td>\n",
       "    </tr>\n",
       "    <tr>\n",
       "      <th>31</th>\n",
       "      <td>42</td>\n",
       "      <td>1</td>\n",
       "      <td>20.299999</td>\n",
       "      <td>71.0</td>\n",
       "      <td>161</td>\n",
       "      <td>81.199997</td>\n",
       "      <td>66.0</td>\n",
       "      <td>2.0</td>\n",
       "      <td>4.2341</td>\n",
       "      <td>81</td>\n",
       "    </tr>\n",
       "  </tbody>\n",
       "</table>\n",
       "</div>"
      ],
      "text/plain": [
       "     idade  sexo        imc  pressao_media  colesterol_total         ldl  \\\n",
       "17      68     2  27.500000          111.0               214  147.000000   \n",
       "66      46     2  24.700001           85.0               174  123.199997   \n",
       "137     50     1  31.000000          123.0               178  105.000000   \n",
       "245     41     1  23.100000           86.0               148   78.000000   \n",
       "31      42     1  20.299999           71.0               161   81.199997   \n",
       "\n",
       "      hdl  colesterol_hdl  triglicerides  glicose  \n",
       "17   39.0             5.0         4.9416       91  \n",
       "66   30.0             6.0         4.6444       96  \n",
       "137  48.0             4.0         4.8283       88  \n",
       "245  58.0             3.0         4.0943       60  \n",
       "31   66.0             2.0         4.2341       81  "
      ]
     },
     "execution_count": 6,
     "metadata": {},
     "output_type": "execute_result"
    }
   ],
   "source": [
    "X_train.head()"
   ]
  },
  {
   "cell_type": "code",
   "execution_count": 7,
   "metadata": {},
   "outputs": [
    {
     "data": {
      "text/plain": [
       "(353, 10)"
      ]
     },
     "execution_count": 7,
     "metadata": {},
     "output_type": "execute_result"
    }
   ],
   "source": [
    "X_train.shape"
   ]
  },
  {
   "cell_type": "code",
   "execution_count": 8,
   "metadata": {},
   "outputs": [
    {
     "data": {
      "text/html": [
       "<div>\n",
       "<style scoped>\n",
       "    .dataframe tbody tr th:only-of-type {\n",
       "        vertical-align: middle;\n",
       "    }\n",
       "\n",
       "    .dataframe tbody tr th {\n",
       "        vertical-align: top;\n",
       "    }\n",
       "\n",
       "    .dataframe thead th {\n",
       "        text-align: right;\n",
       "    }\n",
       "</style>\n",
       "<table border=\"1\" class=\"dataframe\">\n",
       "  <thead>\n",
       "    <tr style=\"text-align: right;\">\n",
       "      <th></th>\n",
       "      <th>idade</th>\n",
       "      <th>sexo</th>\n",
       "      <th>imc</th>\n",
       "      <th>pressao_media</th>\n",
       "      <th>colesterol_total</th>\n",
       "      <th>ldl</th>\n",
       "      <th>hdl</th>\n",
       "      <th>colesterol_hdl</th>\n",
       "      <th>triglicerides</th>\n",
       "      <th>glicose</th>\n",
       "    </tr>\n",
       "  </thead>\n",
       "  <tbody>\n",
       "    <tr>\n",
       "      <th>287</th>\n",
       "      <td>61</td>\n",
       "      <td>1</td>\n",
       "      <td>25.799999</td>\n",
       "      <td>90.000000</td>\n",
       "      <td>280</td>\n",
       "      <td>195.399994</td>\n",
       "      <td>55.0</td>\n",
       "      <td>5.0</td>\n",
       "      <td>4.9972</td>\n",
       "      <td>90</td>\n",
       "    </tr>\n",
       "    <tr>\n",
       "      <th>211</th>\n",
       "      <td>74</td>\n",
       "      <td>1</td>\n",
       "      <td>29.799999</td>\n",
       "      <td>101.000000</td>\n",
       "      <td>171</td>\n",
       "      <td>104.800003</td>\n",
       "      <td>50.0</td>\n",
       "      <td>3.0</td>\n",
       "      <td>4.3944</td>\n",
       "      <td>86</td>\n",
       "    </tr>\n",
       "    <tr>\n",
       "      <th>72</th>\n",
       "      <td>66</td>\n",
       "      <td>2</td>\n",
       "      <td>26.000000</td>\n",
       "      <td>91.000000</td>\n",
       "      <td>264</td>\n",
       "      <td>146.600006</td>\n",
       "      <td>65.0</td>\n",
       "      <td>4.0</td>\n",
       "      <td>5.5683</td>\n",
       "      <td>87</td>\n",
       "    </tr>\n",
       "    <tr>\n",
       "      <th>321</th>\n",
       "      <td>75</td>\n",
       "      <td>1</td>\n",
       "      <td>31.200001</td>\n",
       "      <td>117.669998</td>\n",
       "      <td>229</td>\n",
       "      <td>138.800003</td>\n",
       "      <td>29.0</td>\n",
       "      <td>7.9</td>\n",
       "      <td>5.7236</td>\n",
       "      <td>106</td>\n",
       "    </tr>\n",
       "    <tr>\n",
       "      <th>73</th>\n",
       "      <td>52</td>\n",
       "      <td>2</td>\n",
       "      <td>24.500000</td>\n",
       "      <td>94.000000</td>\n",
       "      <td>217</td>\n",
       "      <td>149.399994</td>\n",
       "      <td>48.0</td>\n",
       "      <td>5.0</td>\n",
       "      <td>4.5850</td>\n",
       "      <td>89</td>\n",
       "    </tr>\n",
       "  </tbody>\n",
       "</table>\n",
       "</div>"
      ],
      "text/plain": [
       "     idade  sexo        imc  pressao_media  colesterol_total         ldl  \\\n",
       "287     61     1  25.799999      90.000000               280  195.399994   \n",
       "211     74     1  29.799999     101.000000               171  104.800003   \n",
       "72      66     2  26.000000      91.000000               264  146.600006   \n",
       "321     75     1  31.200001     117.669998               229  138.800003   \n",
       "73      52     2  24.500000      94.000000               217  149.399994   \n",
       "\n",
       "      hdl  colesterol_hdl  triglicerides  glicose  \n",
       "287  55.0             5.0         4.9972       90  \n",
       "211  50.0             3.0         4.3944       86  \n",
       "72   65.0             4.0         5.5683       87  \n",
       "321  29.0             7.9         5.7236      106  \n",
       "73   48.0             5.0         4.5850       89  "
      ]
     },
     "execution_count": 8,
     "metadata": {},
     "output_type": "execute_result"
    }
   ],
   "source": [
    "X_test.head()"
   ]
  },
  {
   "cell_type": "code",
   "execution_count": 9,
   "metadata": {},
   "outputs": [
    {
     "data": {
      "text/plain": [
       "(89, 10)"
      ]
     },
     "execution_count": 9,
     "metadata": {},
     "output_type": "execute_result"
    }
   ],
   "source": [
    "X_test.shape"
   ]
  },
  {
   "cell_type": "code",
   "execution_count": 10,
   "metadata": {},
   "outputs": [
    {
     "data": {
      "text/plain": [
       "17     144\n",
       "66     150\n",
       "137    280\n",
       "245    125\n",
       "31      59\n",
       "Name: target, dtype: int16"
      ]
     },
     "execution_count": 10,
     "metadata": {},
     "output_type": "execute_result"
    }
   ],
   "source": [
    "y_train.head()"
   ]
  },
  {
   "cell_type": "code",
   "execution_count": 11,
   "metadata": {},
   "outputs": [
    {
     "data": {
      "text/plain": [
       "287    219\n",
       "211     70\n",
       "72     202\n",
       "321    230\n",
       "73     111\n",
       "Name: target, dtype: int16"
      ]
     },
     "execution_count": 11,
     "metadata": {},
     "output_type": "execute_result"
    }
   ],
   "source": [
    "y_test.head()"
   ]
  },
  {
   "cell_type": "code",
   "execution_count": 12,
   "metadata": {},
   "outputs": [
    {
     "data": {
      "text/html": [
       "<style>#sk-container-id-1 {\n",
       "  /* Definition of color scheme common for light and dark mode */\n",
       "  --sklearn-color-text: black;\n",
       "  --sklearn-color-line: gray;\n",
       "  /* Definition of color scheme for unfitted estimators */\n",
       "  --sklearn-color-unfitted-level-0: #fff5e6;\n",
       "  --sklearn-color-unfitted-level-1: #f6e4d2;\n",
       "  --sklearn-color-unfitted-level-2: #ffe0b3;\n",
       "  --sklearn-color-unfitted-level-3: chocolate;\n",
       "  /* Definition of color scheme for fitted estimators */\n",
       "  --sklearn-color-fitted-level-0: #f0f8ff;\n",
       "  --sklearn-color-fitted-level-1: #d4ebff;\n",
       "  --sklearn-color-fitted-level-2: #b3dbfd;\n",
       "  --sklearn-color-fitted-level-3: cornflowerblue;\n",
       "\n",
       "  /* Specific color for light theme */\n",
       "  --sklearn-color-text-on-default-background: var(--sg-text-color, var(--theme-code-foreground, var(--jp-content-font-color1, black)));\n",
       "  --sklearn-color-background: var(--sg-background-color, var(--theme-background, var(--jp-layout-color0, white)));\n",
       "  --sklearn-color-border-box: var(--sg-text-color, var(--theme-code-foreground, var(--jp-content-font-color1, black)));\n",
       "  --sklearn-color-icon: #696969;\n",
       "\n",
       "  @media (prefers-color-scheme: dark) {\n",
       "    /* Redefinition of color scheme for dark theme */\n",
       "    --sklearn-color-text-on-default-background: var(--sg-text-color, var(--theme-code-foreground, var(--jp-content-font-color1, white)));\n",
       "    --sklearn-color-background: var(--sg-background-color, var(--theme-background, var(--jp-layout-color0, #111)));\n",
       "    --sklearn-color-border-box: var(--sg-text-color, var(--theme-code-foreground, var(--jp-content-font-color1, white)));\n",
       "    --sklearn-color-icon: #878787;\n",
       "  }\n",
       "}\n",
       "\n",
       "#sk-container-id-1 {\n",
       "  color: var(--sklearn-color-text);\n",
       "}\n",
       "\n",
       "#sk-container-id-1 pre {\n",
       "  padding: 0;\n",
       "}\n",
       "\n",
       "#sk-container-id-1 input.sk-hidden--visually {\n",
       "  border: 0;\n",
       "  clip: rect(1px 1px 1px 1px);\n",
       "  clip: rect(1px, 1px, 1px, 1px);\n",
       "  height: 1px;\n",
       "  margin: -1px;\n",
       "  overflow: hidden;\n",
       "  padding: 0;\n",
       "  position: absolute;\n",
       "  width: 1px;\n",
       "}\n",
       "\n",
       "#sk-container-id-1 div.sk-dashed-wrapped {\n",
       "  border: 1px dashed var(--sklearn-color-line);\n",
       "  margin: 0 0.4em 0.5em 0.4em;\n",
       "  box-sizing: border-box;\n",
       "  padding-bottom: 0.4em;\n",
       "  background-color: var(--sklearn-color-background);\n",
       "}\n",
       "\n",
       "#sk-container-id-1 div.sk-container {\n",
       "  /* jupyter's `normalize.less` sets `[hidden] { display: none; }`\n",
       "     but bootstrap.min.css set `[hidden] { display: none !important; }`\n",
       "     so we also need the `!important` here to be able to override the\n",
       "     default hidden behavior on the sphinx rendered scikit-learn.org.\n",
       "     See: https://github.com/scikit-learn/scikit-learn/issues/21755 */\n",
       "  display: inline-block !important;\n",
       "  position: relative;\n",
       "}\n",
       "\n",
       "#sk-container-id-1 div.sk-text-repr-fallback {\n",
       "  display: none;\n",
       "}\n",
       "\n",
       "div.sk-parallel-item,\n",
       "div.sk-serial,\n",
       "div.sk-item {\n",
       "  /* draw centered vertical line to link estimators */\n",
       "  background-image: linear-gradient(var(--sklearn-color-text-on-default-background), var(--sklearn-color-text-on-default-background));\n",
       "  background-size: 2px 100%;\n",
       "  background-repeat: no-repeat;\n",
       "  background-position: center center;\n",
       "}\n",
       "\n",
       "/* Parallel-specific style estimator block */\n",
       "\n",
       "#sk-container-id-1 div.sk-parallel-item::after {\n",
       "  content: \"\";\n",
       "  width: 100%;\n",
       "  border-bottom: 2px solid var(--sklearn-color-text-on-default-background);\n",
       "  flex-grow: 1;\n",
       "}\n",
       "\n",
       "#sk-container-id-1 div.sk-parallel {\n",
       "  display: flex;\n",
       "  align-items: stretch;\n",
       "  justify-content: center;\n",
       "  background-color: var(--sklearn-color-background);\n",
       "  position: relative;\n",
       "}\n",
       "\n",
       "#sk-container-id-1 div.sk-parallel-item {\n",
       "  display: flex;\n",
       "  flex-direction: column;\n",
       "}\n",
       "\n",
       "#sk-container-id-1 div.sk-parallel-item:first-child::after {\n",
       "  align-self: flex-end;\n",
       "  width: 50%;\n",
       "}\n",
       "\n",
       "#sk-container-id-1 div.sk-parallel-item:last-child::after {\n",
       "  align-self: flex-start;\n",
       "  width: 50%;\n",
       "}\n",
       "\n",
       "#sk-container-id-1 div.sk-parallel-item:only-child::after {\n",
       "  width: 0;\n",
       "}\n",
       "\n",
       "/* Serial-specific style estimator block */\n",
       "\n",
       "#sk-container-id-1 div.sk-serial {\n",
       "  display: flex;\n",
       "  flex-direction: column;\n",
       "  align-items: center;\n",
       "  background-color: var(--sklearn-color-background);\n",
       "  padding-right: 1em;\n",
       "  padding-left: 1em;\n",
       "}\n",
       "\n",
       "\n",
       "/* Toggleable style: style used for estimator/Pipeline/ColumnTransformer box that is\n",
       "clickable and can be expanded/collapsed.\n",
       "- Pipeline and ColumnTransformer use this feature and define the default style\n",
       "- Estimators will overwrite some part of the style using the `sk-estimator` class\n",
       "*/\n",
       "\n",
       "/* Pipeline and ColumnTransformer style (default) */\n",
       "\n",
       "#sk-container-id-1 div.sk-toggleable {\n",
       "  /* Default theme specific background. It is overwritten whether we have a\n",
       "  specific estimator or a Pipeline/ColumnTransformer */\n",
       "  background-color: var(--sklearn-color-background);\n",
       "}\n",
       "\n",
       "/* Toggleable label */\n",
       "#sk-container-id-1 label.sk-toggleable__label {\n",
       "  cursor: pointer;\n",
       "  display: block;\n",
       "  width: 100%;\n",
       "  margin-bottom: 0;\n",
       "  padding: 0.5em;\n",
       "  box-sizing: border-box;\n",
       "  text-align: center;\n",
       "}\n",
       "\n",
       "#sk-container-id-1 label.sk-toggleable__label-arrow:before {\n",
       "  /* Arrow on the left of the label */\n",
       "  content: \"▸\";\n",
       "  float: left;\n",
       "  margin-right: 0.25em;\n",
       "  color: var(--sklearn-color-icon);\n",
       "}\n",
       "\n",
       "#sk-container-id-1 label.sk-toggleable__label-arrow:hover:before {\n",
       "  color: var(--sklearn-color-text);\n",
       "}\n",
       "\n",
       "/* Toggleable content - dropdown */\n",
       "\n",
       "#sk-container-id-1 div.sk-toggleable__content {\n",
       "  max-height: 0;\n",
       "  max-width: 0;\n",
       "  overflow: hidden;\n",
       "  text-align: left;\n",
       "  /* unfitted */\n",
       "  background-color: var(--sklearn-color-unfitted-level-0);\n",
       "}\n",
       "\n",
       "#sk-container-id-1 div.sk-toggleable__content.fitted {\n",
       "  /* fitted */\n",
       "  background-color: var(--sklearn-color-fitted-level-0);\n",
       "}\n",
       "\n",
       "#sk-container-id-1 div.sk-toggleable__content pre {\n",
       "  margin: 0.2em;\n",
       "  border-radius: 0.25em;\n",
       "  color: var(--sklearn-color-text);\n",
       "  /* unfitted */\n",
       "  background-color: var(--sklearn-color-unfitted-level-0);\n",
       "}\n",
       "\n",
       "#sk-container-id-1 div.sk-toggleable__content.fitted pre {\n",
       "  /* unfitted */\n",
       "  background-color: var(--sklearn-color-fitted-level-0);\n",
       "}\n",
       "\n",
       "#sk-container-id-1 input.sk-toggleable__control:checked~div.sk-toggleable__content {\n",
       "  /* Expand drop-down */\n",
       "  max-height: 200px;\n",
       "  max-width: 100%;\n",
       "  overflow: auto;\n",
       "}\n",
       "\n",
       "#sk-container-id-1 input.sk-toggleable__control:checked~label.sk-toggleable__label-arrow:before {\n",
       "  content: \"▾\";\n",
       "}\n",
       "\n",
       "/* Pipeline/ColumnTransformer-specific style */\n",
       "\n",
       "#sk-container-id-1 div.sk-label input.sk-toggleable__control:checked~label.sk-toggleable__label {\n",
       "  color: var(--sklearn-color-text);\n",
       "  background-color: var(--sklearn-color-unfitted-level-2);\n",
       "}\n",
       "\n",
       "#sk-container-id-1 div.sk-label.fitted input.sk-toggleable__control:checked~label.sk-toggleable__label {\n",
       "  background-color: var(--sklearn-color-fitted-level-2);\n",
       "}\n",
       "\n",
       "/* Estimator-specific style */\n",
       "\n",
       "/* Colorize estimator box */\n",
       "#sk-container-id-1 div.sk-estimator input.sk-toggleable__control:checked~label.sk-toggleable__label {\n",
       "  /* unfitted */\n",
       "  background-color: var(--sklearn-color-unfitted-level-2);\n",
       "}\n",
       "\n",
       "#sk-container-id-1 div.sk-estimator.fitted input.sk-toggleable__control:checked~label.sk-toggleable__label {\n",
       "  /* fitted */\n",
       "  background-color: var(--sklearn-color-fitted-level-2);\n",
       "}\n",
       "\n",
       "#sk-container-id-1 div.sk-label label.sk-toggleable__label,\n",
       "#sk-container-id-1 div.sk-label label {\n",
       "  /* The background is the default theme color */\n",
       "  color: var(--sklearn-color-text-on-default-background);\n",
       "}\n",
       "\n",
       "/* On hover, darken the color of the background */\n",
       "#sk-container-id-1 div.sk-label:hover label.sk-toggleable__label {\n",
       "  color: var(--sklearn-color-text);\n",
       "  background-color: var(--sklearn-color-unfitted-level-2);\n",
       "}\n",
       "\n",
       "/* Label box, darken color on hover, fitted */\n",
       "#sk-container-id-1 div.sk-label.fitted:hover label.sk-toggleable__label.fitted {\n",
       "  color: var(--sklearn-color-text);\n",
       "  background-color: var(--sklearn-color-fitted-level-2);\n",
       "}\n",
       "\n",
       "/* Estimator label */\n",
       "\n",
       "#sk-container-id-1 div.sk-label label {\n",
       "  font-family: monospace;\n",
       "  font-weight: bold;\n",
       "  display: inline-block;\n",
       "  line-height: 1.2em;\n",
       "}\n",
       "\n",
       "#sk-container-id-1 div.sk-label-container {\n",
       "  text-align: center;\n",
       "}\n",
       "\n",
       "/* Estimator-specific */\n",
       "#sk-container-id-1 div.sk-estimator {\n",
       "  font-family: monospace;\n",
       "  border: 1px dotted var(--sklearn-color-border-box);\n",
       "  border-radius: 0.25em;\n",
       "  box-sizing: border-box;\n",
       "  margin-bottom: 0.5em;\n",
       "  /* unfitted */\n",
       "  background-color: var(--sklearn-color-unfitted-level-0);\n",
       "}\n",
       "\n",
       "#sk-container-id-1 div.sk-estimator.fitted {\n",
       "  /* fitted */\n",
       "  background-color: var(--sklearn-color-fitted-level-0);\n",
       "}\n",
       "\n",
       "/* on hover */\n",
       "#sk-container-id-1 div.sk-estimator:hover {\n",
       "  /* unfitted */\n",
       "  background-color: var(--sklearn-color-unfitted-level-2);\n",
       "}\n",
       "\n",
       "#sk-container-id-1 div.sk-estimator.fitted:hover {\n",
       "  /* fitted */\n",
       "  background-color: var(--sklearn-color-fitted-level-2);\n",
       "}\n",
       "\n",
       "/* Specification for estimator info (e.g. \"i\" and \"?\") */\n",
       "\n",
       "/* Common style for \"i\" and \"?\" */\n",
       "\n",
       ".sk-estimator-doc-link,\n",
       "a:link.sk-estimator-doc-link,\n",
       "a:visited.sk-estimator-doc-link {\n",
       "  float: right;\n",
       "  font-size: smaller;\n",
       "  line-height: 1em;\n",
       "  font-family: monospace;\n",
       "  background-color: var(--sklearn-color-background);\n",
       "  border-radius: 1em;\n",
       "  height: 1em;\n",
       "  width: 1em;\n",
       "  text-decoration: none !important;\n",
       "  margin-left: 1ex;\n",
       "  /* unfitted */\n",
       "  border: var(--sklearn-color-unfitted-level-1) 1pt solid;\n",
       "  color: var(--sklearn-color-unfitted-level-1);\n",
       "}\n",
       "\n",
       ".sk-estimator-doc-link.fitted,\n",
       "a:link.sk-estimator-doc-link.fitted,\n",
       "a:visited.sk-estimator-doc-link.fitted {\n",
       "  /* fitted */\n",
       "  border: var(--sklearn-color-fitted-level-1) 1pt solid;\n",
       "  color: var(--sklearn-color-fitted-level-1);\n",
       "}\n",
       "\n",
       "/* On hover */\n",
       "div.sk-estimator:hover .sk-estimator-doc-link:hover,\n",
       ".sk-estimator-doc-link:hover,\n",
       "div.sk-label-container:hover .sk-estimator-doc-link:hover,\n",
       ".sk-estimator-doc-link:hover {\n",
       "  /* unfitted */\n",
       "  background-color: var(--sklearn-color-unfitted-level-3);\n",
       "  color: var(--sklearn-color-background);\n",
       "  text-decoration: none;\n",
       "}\n",
       "\n",
       "div.sk-estimator.fitted:hover .sk-estimator-doc-link.fitted:hover,\n",
       ".sk-estimator-doc-link.fitted:hover,\n",
       "div.sk-label-container:hover .sk-estimator-doc-link.fitted:hover,\n",
       ".sk-estimator-doc-link.fitted:hover {\n",
       "  /* fitted */\n",
       "  background-color: var(--sklearn-color-fitted-level-3);\n",
       "  color: var(--sklearn-color-background);\n",
       "  text-decoration: none;\n",
       "}\n",
       "\n",
       "/* Span, style for the box shown on hovering the info icon */\n",
       ".sk-estimator-doc-link span {\n",
       "  display: none;\n",
       "  z-index: 9999;\n",
       "  position: relative;\n",
       "  font-weight: normal;\n",
       "  right: .2ex;\n",
       "  padding: .5ex;\n",
       "  margin: .5ex;\n",
       "  width: min-content;\n",
       "  min-width: 20ex;\n",
       "  max-width: 50ex;\n",
       "  color: var(--sklearn-color-text);\n",
       "  box-shadow: 2pt 2pt 4pt #999;\n",
       "  /* unfitted */\n",
       "  background: var(--sklearn-color-unfitted-level-0);\n",
       "  border: .5pt solid var(--sklearn-color-unfitted-level-3);\n",
       "}\n",
       "\n",
       ".sk-estimator-doc-link.fitted span {\n",
       "  /* fitted */\n",
       "  background: var(--sklearn-color-fitted-level-0);\n",
       "  border: var(--sklearn-color-fitted-level-3);\n",
       "}\n",
       "\n",
       ".sk-estimator-doc-link:hover span {\n",
       "  display: block;\n",
       "}\n",
       "\n",
       "/* \"?\"-specific style due to the `<a>` HTML tag */\n",
       "\n",
       "#sk-container-id-1 a.estimator_doc_link {\n",
       "  float: right;\n",
       "  font-size: 1rem;\n",
       "  line-height: 1em;\n",
       "  font-family: monospace;\n",
       "  background-color: var(--sklearn-color-background);\n",
       "  border-radius: 1rem;\n",
       "  height: 1rem;\n",
       "  width: 1rem;\n",
       "  text-decoration: none;\n",
       "  /* unfitted */\n",
       "  color: var(--sklearn-color-unfitted-level-1);\n",
       "  border: var(--sklearn-color-unfitted-level-1) 1pt solid;\n",
       "}\n",
       "\n",
       "#sk-container-id-1 a.estimator_doc_link.fitted {\n",
       "  /* fitted */\n",
       "  border: var(--sklearn-color-fitted-level-1) 1pt solid;\n",
       "  color: var(--sklearn-color-fitted-level-1);\n",
       "}\n",
       "\n",
       "/* On hover */\n",
       "#sk-container-id-1 a.estimator_doc_link:hover {\n",
       "  /* unfitted */\n",
       "  background-color: var(--sklearn-color-unfitted-level-3);\n",
       "  color: var(--sklearn-color-background);\n",
       "  text-decoration: none;\n",
       "}\n",
       "\n",
       "#sk-container-id-1 a.estimator_doc_link.fitted:hover {\n",
       "  /* fitted */\n",
       "  background-color: var(--sklearn-color-fitted-level-3);\n",
       "}\n",
       "</style><div id=\"sk-container-id-1\" class=\"sk-top-container\"><div class=\"sk-text-repr-fallback\"><pre>LinearRegression()</pre><b>In a Jupyter environment, please rerun this cell to show the HTML representation or trust the notebook. <br />On GitHub, the HTML representation is unable to render, please try loading this page with nbviewer.org.</b></div><div class=\"sk-container\" hidden><div class=\"sk-item\"><div class=\"sk-estimator fitted sk-toggleable\"><input class=\"sk-toggleable__control sk-hidden--visually\" id=\"sk-estimator-id-1\" type=\"checkbox\" checked><label for=\"sk-estimator-id-1\" class=\"sk-toggleable__label fitted sk-toggleable__label-arrow fitted\">&nbsp;&nbsp;LinearRegression<a class=\"sk-estimator-doc-link fitted\" rel=\"noreferrer\" target=\"_blank\" href=\"https://scikit-learn.org/1.5/modules/generated/sklearn.linear_model.LinearRegression.html\">?<span>Documentation for LinearRegression</span></a><span class=\"sk-estimator-doc-link fitted\">i<span>Fitted</span></span></label><div class=\"sk-toggleable__content fitted\"><pre>LinearRegression()</pre></div> </div></div></div></div>"
      ],
      "text/plain": [
       "LinearRegression()"
      ]
     },
     "execution_count": 12,
     "metadata": {},
     "output_type": "execute_result"
    }
   ],
   "source": [
    "regressor = LinearRegression()\n",
    "\n",
    "regressor.fit(X_train, y_train)"
   ]
  },
  {
   "cell_type": "code",
   "execution_count": 13,
   "metadata": {},
   "outputs": [
    {
     "data": {
      "text/plain": [
       "0.5279194116592407"
      ]
     },
     "execution_count": 13,
     "metadata": {},
     "output_type": "execute_result"
    }
   ],
   "source": [
    "regressor.score(X_train, y_train)"
   ]
  },
  {
   "cell_type": "code",
   "execution_count": 14,
   "metadata": {},
   "outputs": [
    {
     "data": {
      "text/plain": [
       "0.4526023268699646"
      ]
     },
     "execution_count": 14,
     "metadata": {},
     "output_type": "execute_result"
    }
   ],
   "source": [
    "regressor.score(X_test, y_test)"
   ]
  },
  {
   "cell_type": "code",
   "execution_count": 15,
   "metadata": {},
   "outputs": [
    {
     "data": {
      "text/plain": [
       "array([  0.1376898 , -23.064426  ,   5.846359  ,   1.197093  ,\n",
       "        -1.2816849 ,   0.81114864,   0.6016509 ,  10.159533  ,\n",
       "        67.1089    ,   0.20159864], dtype=float32)"
      ]
     },
     "execution_count": 15,
     "metadata": {},
     "output_type": "execute_result"
    }
   ],
   "source": [
    "regressor.coef_"
   ]
  },
  {
   "cell_type": "code",
   "execution_count": 16,
   "metadata": {},
   "outputs": [
    {
     "data": {
      "text/plain": [
       "np.float32(-341.37747)"
      ]
     },
     "execution_count": 16,
     "metadata": {},
     "output_type": "execute_result"
    }
   ],
   "source": [
    "regressor.intercept_"
   ]
  },
  {
   "cell_type": "code",
   "execution_count": 17,
   "metadata": {},
   "outputs": [
    {
     "data": {
      "text/html": [
       "<div>\n",
       "<style scoped>\n",
       "    .dataframe tbody tr th:only-of-type {\n",
       "        vertical-align: middle;\n",
       "    }\n",
       "\n",
       "    .dataframe tbody tr th {\n",
       "        vertical-align: top;\n",
       "    }\n",
       "\n",
       "    .dataframe thead th {\n",
       "        text-align: right;\n",
       "    }\n",
       "</style>\n",
       "<table border=\"1\" class=\"dataframe\">\n",
       "  <thead>\n",
       "    <tr style=\"text-align: right;\">\n",
       "      <th></th>\n",
       "      <th>coeficiente</th>\n",
       "    </tr>\n",
       "  </thead>\n",
       "  <tbody>\n",
       "    <tr>\n",
       "      <th>sexo</th>\n",
       "      <td>-23.064426</td>\n",
       "    </tr>\n",
       "    <tr>\n",
       "      <th>colesterol_total</th>\n",
       "      <td>-1.281685</td>\n",
       "    </tr>\n",
       "    <tr>\n",
       "      <th>idade</th>\n",
       "      <td>0.137690</td>\n",
       "    </tr>\n",
       "    <tr>\n",
       "      <th>glicose</th>\n",
       "      <td>0.201599</td>\n",
       "    </tr>\n",
       "    <tr>\n",
       "      <th>hdl</th>\n",
       "      <td>0.601651</td>\n",
       "    </tr>\n",
       "    <tr>\n",
       "      <th>ldl</th>\n",
       "      <td>0.811149</td>\n",
       "    </tr>\n",
       "    <tr>\n",
       "      <th>pressao_media</th>\n",
       "      <td>1.197093</td>\n",
       "    </tr>\n",
       "    <tr>\n",
       "      <th>imc</th>\n",
       "      <td>5.846359</td>\n",
       "    </tr>\n",
       "    <tr>\n",
       "      <th>colesterol_hdl</th>\n",
       "      <td>10.159533</td>\n",
       "    </tr>\n",
       "    <tr>\n",
       "      <th>triglicerides</th>\n",
       "      <td>67.108902</td>\n",
       "    </tr>\n",
       "  </tbody>\n",
       "</table>\n",
       "</div>"
      ],
      "text/plain": [
       "                  coeficiente\n",
       "sexo               -23.064426\n",
       "colesterol_total    -1.281685\n",
       "idade                0.137690\n",
       "glicose              0.201599\n",
       "hdl                  0.601651\n",
       "ldl                  0.811149\n",
       "pressao_media        1.197093\n",
       "imc                  5.846359\n",
       "colesterol_hdl      10.159533\n",
       "triglicerides       67.108902"
      ]
     },
     "execution_count": 17,
     "metadata": {},
     "output_type": "execute_result"
    }
   ],
   "source": [
    "coefs = dataframe_coeficientes(regressor.coef_, X.columns)\n",
    "\n",
    "coefs"
   ]
  },
  {
   "cell_type": "code",
   "execution_count": 18,
   "metadata": {},
   "outputs": [
    {
     "data": {
      "image/png": "[encoded data removed]",
      "text/plain": [
       "<Figure size 640x480 with 1 Axes>"
      ]
     },
     "metadata": {},
     "output_type": "display_data"
    }
   ],
   "source": [
    "plot_coeficientes(coefs)"
   ]
  },
  {
   "cell_type": "markdown",
   "metadata": {},
   "source": [
    "Os coeficientes de uma regressão linear muitas vezes são interpretados como indicadores da importância das features, mas essa interpretação precisa ser feita com cautela.\n",
    "\n",
    "### 1. **Coeficientes e Importância Relativa**\n",
    "   \n",
    "Em uma regressão linear, o coeficiente associado a cada feature indica a mudança esperada na variável dependente (target) para cada unidade de mudança na feature, mantendo todas as outras features constantes. Em termos simples, um coeficiente maior sugere que a feature correspondente tem um impacto maior na predição do modelo.\n",
    "\n",
    "No entanto, essa interpretação pode ser enganosa, especialmente em modelos com múltiplas features. A magnitude dos coeficientes pode ser afetada por vários fatores, que não necessariamente refletem a verdadeira importância das features:\n",
    "\n",
    "- **Escala das Features**: Se as features estão em escalas diferentes, os coeficientes podem ser desproporcionalmente influenciados por essa diferença. Por exemplo, uma feature que varia entre 0 e 1 pode ter um coeficiente pequeno, enquanto uma feature que varia entre 1 e 1000 pode ter um coeficiente grande, mesmo que ambas tenham uma importância semelhante. A padronização ou normalização das features antes de aplicar a regressão linear pode ajudar a mitigar esse problema.\n",
    "\n",
    "- **Colinearidade**: Quando há colinearidade (ou multicolinearidade) entre as features, os coeficientes podem se tornar instáveis e difíceis de interpretar. A presença de colinearidade significa que as features estão correlacionadas entre si, o que pode levar a coeficientes inflacionados ou com sinais contrários ao esperado. Nesse caso, os coeficientes podem não refletir a verdadeira relação entre as features e o target.\n",
    "\n",
    "**Colinearidade e Multicolinearidade em Machine Learning**\n",
    "\n",
    "**Colinearidade:**  \n",
    "Colinearidade ocorre quando duas variáveis independentes (ou preditoras) em um modelo de regressão estão altamente correlacionadas, ou seja, elas têm uma relação linear entre si. Isso significa que uma das variáveis pode ser quase completamente explicada pela outra. No contexto de machine learning, a colinearidade pode levar a problemas na estimativa dos coeficientes de regressão, tornando-os menos confiáveis e mais sensíveis a pequenas mudanças nos dados.\n",
    "\n",
    "**Multicolinearidade:**  \n",
    "Multicolinearidade é uma extensão do conceito de colinearidade e ocorre quando uma variável independente é altamente correlacionada com uma combinação linear de outras variáveis independentes no modelo. Em outras palavras, várias variáveis independentes estão correlacionadas entre si, o que pode dificultar a separação do efeito individual de cada uma sobre a variável dependente.\n",
    "\n",
    "**Impactos em Machine Learning:**  \n",
    "- **Instabilidade nos Coeficientes:** Em modelos de regressão linear, a multicolinearidade pode causar instabilidade nos coeficientes estimados, resultando em grandes variações entre diferentes amostras de dados.\n",
    "- **Redução da Interpretabilidade:** Quando as variáveis preditoras estão correlacionadas, torna-se difícil determinar a importância individual de cada variável no modelo.\n",
    "- **Aumento do Overfitting:** A multicolinearidade pode aumentar o risco de overfitting, onde o modelo se ajusta demais aos dados de treino e não generaliza bem para novos dados.\n",
    "\n",
    "**Soluções:**  \n",
    "- **Remoção de Variáveis Correlacionadas:** Identificar e remover uma ou mais variáveis preditoras altamente correlacionadas pode ajudar a reduzir a multicolinearidade.\n",
    "- **Regularização (Ridge e Lasso):** Como mencionado anteriormente, técnicas de regularização, como Ridge e Lasso, podem ajudar a mitigar os efeitos da multicolinearidade, penalizando coeficientes grandes e ajudando a estabilizar as estimativas.\n",
    "\n",
    "\n",
    "### 2. **Interpretação de Coeficientes em Regimes Diferentes**\n",
    "\n",
    "- **Regressão Linear Simples**: Em uma regressão linear simples (uma única feature), o coeficiente pode ser interpretado diretamente como a importância da feature na predição do target.\n",
    "\n",
    "- **Regressão Linear Múltipla**: Em uma regressão linear múltipla (várias features), a interpretação dos coeficientes se torna mais complexa. Cada coeficiente representa a influência de uma feature considerando que todas as outras features estão presentes no modelo. A interação entre as features pode distorcer a percepção da importância de cada uma.\n",
    "\n",
    "### 3. **Outras Medidas de Importância**\n",
    "\n",
    "Dada a complexidade envolvida na interpretação dos coeficientes, outras técnicas e métricas são frequentemente utilizadas para avaliar a importância das features:\n",
    "\n",
    "- **Importância baseada em árvores**: Modelos baseados em árvores de decisão, como Random Forests, calculam a importância das features com base na redução do erro de predição ao longo de todas as árvores. Essa métrica pode ser mais robusta e intuitiva em cenários onde as features interagem de maneira complexa.\n",
    "\n",
    "- **Coeficientes Regularizados**: Modelos de regressão linear com regularização, como Lasso (L1) e Ridge (L2), ajustam os coeficientes para reduzir overfitting e podem fornecer uma ideia mais confiável da importância das features. O Lasso, por exemplo, pode zerar os coeficientes de features menos importantes, promovendo um modelo mais interpretável.\n",
    "\n",
    "### 4. **Cenários Específicos**\n",
    "\n",
    "- **Dados com Alta Dimensionalidade**: Em conjuntos de dados com muitas features, os coeficientes podem ser difíceis de interpretar, especialmente se o modelo estiver sobreajustado (overfitting). Regularização e seleção de features são fundamentais nesses casos.\n",
    "\n",
    "- **Modelos Lineares vs. Modelos Não Lineares**: Em modelos não lineares (como redes neurais ou máquinas de vetores de suporte com kernels não lineares), a ideia de \"importância de feature\" baseada em coeficientes não se aplica da mesma forma. Nesses casos, técnicas específicas de interpretação são necessárias.\n"
   ]
  },
  {
   "cell_type": "code",
   "execution_count": 19,
   "metadata": {},
   "outputs": [
    {
     "data": {
      "text/plain": [
       "array([139.54721 , 179.5173  , 134.0386  , 291.4169  , 123.78958 ,\n",
       "        92.17215 , 258.2322  , 181.33707 ,  90.22418 , 108.63364 ,\n",
       "        94.13852 , 168.43503 ,  53.504913, 206.63083 , 100.129364,\n",
       "       130.66672 , 219.53061 , 250.78024 , 196.36911 , 218.5751  ,\n",
       "       207.35043 ,  88.48331 ,  70.43286 , 188.95914 , 154.88678 ,\n",
       "       159.36179 , 188.31271 , 180.39108 ,  47.99054 , 108.97446 ,\n",
       "       174.77884 ,  86.36398 , 132.95761 , 184.53824 , 173.83206 ,\n",
       "       190.35837 , 124.41568 , 119.65103 , 147.95163 ,  59.054077,\n",
       "        71.62332 , 107.68298 , 165.45386 , 155.0098  , 171.048   ,\n",
       "        61.45758 ,  71.66675 , 114.96747 ,  51.579865, 167.57596 ,\n",
       "       152.52307 ,  62.95569 , 103.49744 , 109.20752 , 175.64096 ,\n",
       "       154.60297 ,  94.4169  , 210.74216 , 120.25659 ,  77.61597 ,\n",
       "       187.93173 , 206.49338 , 140.63177 , 105.59677 , 130.70428 ,\n",
       "       202.18515 , 171.13022 , 164.9143  , 124.72479 , 144.8103  ,\n",
       "       181.99637 , 199.4136  , 234.21426 , 145.95673 ,  79.86719 ,\n",
       "       157.36932 , 192.74387 , 208.89804 , 158.58719 , 206.02182 ,\n",
       "       107.479675, 140.93604 ,  54.82129 ,  55.92563 , 115.01181 ,\n",
       "        78.9559  ,  81.56113 ,  54.380127, 166.25433 ], dtype=float32)"
      ]
     },
     "execution_count": 19,
     "metadata": {},
     "output_type": "execute_result"
    }
   ],
   "source": [
    "y_pred = regressor.predict(X_test)\n",
    "\n",
    "y_pred"
   ]
  },
  {
   "cell_type": "code",
   "execution_count": 20,
   "metadata": {},
   "outputs": [
    {
     "data": {
      "text/plain": [
       "0.4526023268699646"
      ]
     },
     "execution_count": 20,
     "metadata": {},
     "output_type": "execute_result"
    }
   ],
   "source": [
    "r2_score(y_test, y_pred)"
   ]
  },
  {
   "cell_type": "code",
   "execution_count": 21,
   "metadata": {},
   "outputs": [
    {
     "data": {
      "text/plain": [
       "np.float32(42.794098)"
      ]
     },
     "execution_count": 21,
     "metadata": {},
     "output_type": "execute_result"
    }
   ],
   "source": [
    "mean_absolute_error(y_test, y_pred)"
   ]
  },
  {
   "cell_type": "code",
   "execution_count": 22,
   "metadata": {},
   "outputs": [
    {
     "data": {
      "text/plain": [
       "np.float32(2900.196)"
      ]
     },
     "execution_count": 22,
     "metadata": {},
     "output_type": "execute_result"
    }
   ],
   "source": [
    "mean_squared_error(y_test, y_pred)"
   ]
  },
  {
   "cell_type": "code",
   "execution_count": 24,
   "metadata": {},
   "outputs": [
    {
     "data": {
      "text/plain": [
       "np.float32(53.85347)"
      ]
     },
     "execution_count": 24,
     "metadata": {},
     "output_type": "execute_result"
    }
   ],
   "source": [
    "root_mean_squared_error(y_test, y_pred)"
   ]
  },
  {
   "cell_type": "code",
   "execution_count": 29,
   "metadata": {},
   "outputs": [
    {
     "data": {
      "text/plain": [
       "<sklearn.metrics._plot.regression.PredictionErrorDisplay at 0x7526bc138c20>"
      ]
     },
     "execution_count": 29,
     "metadata": {},
     "output_type": "execute_result"
    },
    {
     "data": {
      "image/png": "[encoded data removed]",
      "text/plain": [
       "<Figure size 640x480 with 1 Axes>"
      ]
     },
     "metadata": {},
     "output_type": "display_data"
    }
   ],
   "source": [
    "PredictionErrorDisplay.from_predictions(\n",
    "    y_true=y_test, \n",
    "    y_pred=y_pred\n",
    ")"
   ]
  },
  {
   "cell_type": "code",
   "execution_count": 28,
   "metadata": {},
   "outputs": [
    {
     "data": {
      "text/plain": [
       "<sklearn.metrics._plot.regression.PredictionErrorDisplay at 0x7526b7f07560>"
      ]
     },
     "execution_count": 28,
     "metadata": {},
     "output_type": "execute_result"
    },
    {
     "data": {
      "image/png": "[encoded data removed]",
      "text/plain": [
       "<Figure size 640x480 with 1 Axes>"
      ]
     },
     "metadata": {},
     "output_type": "display_data"
    }
   ],
   "source": [
    "PredictionErrorDisplay.from_predictions(\n",
    "    y_true=y_test, \n",
    "    y_pred=y_pred,\n",
    "    kind=\"actual_vs_predicted\"\n",
    ")"
   ]
  },
  {
   "cell_type": "code",
   "execution_count": 32,
   "metadata": {},
   "outputs": [
    {
     "data": {
      "text/plain": [
       "<Axes: xlabel='target', ylabel='Count'>"
      ]
     },
     "execution_count": 32,
     "metadata": {},
     "output_type": "execute_result"
    },
    {
     "data": {
      "image/png": "[encoded data removed]",
      "text/plain": [
       "<Figure size 640x480 with 1 Axes>"
      ]
     },
     "metadata": {},
     "output_type": "display_data"
    }
   ],
   "source": [
    "residuos = y_test - y_pred\n",
    "\n",
    "sns.histplot(residuos, kde=True)"
   ]
  },
  {
   "cell_type": "code",
   "execution_count": 36,
   "metadata": {},
   "outputs": [
    {
     "data": {
      "image/png": "[encoded data removed]",
      "text/plain": [
       "<Figure size 1200x600 with 3 Axes>"
      ]
     },
     "metadata": {},
     "output_type": "display_data"
    }
   ],
   "source": [
    "plot_residuos(y_test, y_pred)"
   ]
  },
  {
   "cell_type": "code",
   "execution_count": null,
   "metadata": {},
   "outputs": [],
   "source": []
  },
  {
   "cell_type": "code",
   "execution_count": null,
   "metadata": {},
   "outputs": [],
   "source": []
  },
  {
   "cell_type": "code",
   "execution_count": null,
   "metadata": {},
   "outputs": [],
   "source": []
  },
  {
   "cell_type": "code",
   "execution_count": null,
   "metadata": {},
   "outputs": [],
   "source": []
  }
 ],
 "metadata": {
  "kernelspec": {
   "display_name": "machine_learning",
   "language": "python",
   "name": "machine_learning"
  },
  "language_info": {
   "codemirror_mode": {
    "name": "ipython",
    "version": 3
   },
   "file_extension": ".py",
   "mimetype": "text/x-python",
   "name": "python",
   "nbconvert_exporter": "python",
   "pygments_lexer": "ipython3",
   "version": "3.12.5"
  }
 },
 "nbformat": 4,
 "nbformat_minor": 4
}
